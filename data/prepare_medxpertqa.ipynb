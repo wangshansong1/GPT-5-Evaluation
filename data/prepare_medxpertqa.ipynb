{
 "cells": [
  {
   "cell_type": "markdown",
   "metadata": {},
   "source": [
    "#### MedXpertQA"
   ]
  },
  {
   "cell_type": "code",
   "execution_count": 1,
   "metadata": {},
   "outputs": [
    {
     "name": "stderr",
     "output_type": "stream",
     "text": [
      "/home/wangss/anaconda3/envs/opencompass_lmdeploy/lib/python3.10/site-packages/tqdm/auto.py:21: TqdmWarning: IProgress not found. Please update jupyter and ipywidgets. See https://ipywidgets.readthedocs.io/en/stable/user_install.html\n",
      "  from .autonotebook import tqdm as notebook_tqdm\n",
      "Generating dev split: 100%|██████████| 5/5 [00:00<00:00, 1384.72 examples/s]\n",
      "Generating test split: 100%|██████████| 2000/2000 [00:00<00:00, 290233.12 examples/s]\n",
      "Generating dev split: 100%|██████████| 5/5 [00:00<00:00, 1824.09 examples/s]\n",
      "Generating test split: 100%|██████████| 2450/2450 [00:00<00:00, 210178.45 examples/s]\n"
     ]
    }
   ],
   "source": [
    "import os\n",
    "import json\n",
    "\n",
    "from datasets import load_dataset\n",
    "\n",
    "spilt_list = ['MM', 'Text']\n",
    "\n",
    "for split in spilt_list:\n",
    "    ds = load_dataset(\"TsinghuaC3I/MedXpertQA\", split)\n",
    "\n",
    "    test = ds[\"test\"]\n",
    "\n",
    "    final_data = []\n",
    "    for index, item in enumerate(test):\n",
    "        options = []\n",
    "        for option in item[\"options\"]:\n",
    "            letter = option\n",
    "            content = item[\"options\"][option]\n",
    "            option_item = {\"letter\": letter, \"content\": content}\n",
    "            options.append(option_item)\n",
    "        item[\"options\"] = options\n",
    "        item[\"label\"] = [item[\"label\"]]\n",
    "\n",
    "        if split == \"MM\":\n",
    "            images = []\n",
    "            for image in item[\"images\"]:\n",
    "                image_path = image\n",
    "                images.append({\"image_path\": image_path})\n",
    "            item[\"images\"] = images\n",
    "\n",
    "        final_data.append(item)\n",
    "\n",
    "    output_path = f\"medxpertqa/input/medxpertqa_{split.lower()}_input.jsonl\"\n",
    "    os.makedirs(os.path.dirname(output_path), exist_ok=True)\n",
    "    with open(output_path, 'w') as f:\n",
    "        for item in final_data:\n",
    "            f.write(json.dumps(item, ensure_ascii=False) + \"\\n\")"
   ]
  },
  {
   "cell_type": "code",
   "execution_count": 2,
   "metadata": {},
   "outputs": [
    {
     "name": "stdout",
     "output_type": "stream",
     "text": [
      "{\n",
      "  \"id\": \"MM-0\",\n",
      "  \"question\": \"A 26-year-old man falls from a ladder, landing on his outstretched right hand. He is evaluated in the emergency department and diagnosed with a closed elbow injury without neurovascular compromise. Radiographs are obtained and shown in Figures A and B. During surgery, a sequential approach is used to address each aspect of the injury. Which surgical step is considered to contribute the most to rotatory stability?\\nAnswer Choices: (A) Lateral collateral ligament complex repair or reconstruction (B) Capsular plication (C) Radial head replacement (D) Radial head ORIF (E) Medial collateral ligament complex reconstruction\",\n",
      "  \"options\": {\n",
      "    \"A\": \"Lateral collateral ligament complex repair or reconstruction\",\n",
      "    \"B\": \"Capsular plication\",\n",
      "    \"C\": \"Radial head replacement\",\n",
      "    \"D\": \"Radial head ORIF\",\n",
      "    \"E\": \"Medial collateral ligament complex reconstruction\"\n",
      "  },\n",
      "  \"label\": \"A\",\n",
      "  \"images\": [\n",
      "    \"MM-0-a.jpeg\",\n",
      "    \"MM-0-b.jpeg\"\n",
      "  ],\n",
      "  \"medical_task\": \"Treatment\",\n",
      "  \"body_system\": \"Skeletal\",\n",
      "  \"question_type\": \"Reasoning\"\n",
      "}\n"
     ]
    }
   ],
   "source": [
    "# show the first example\n",
    "from datasets import load_dataset\n",
    "\n",
    "ds = load_dataset(\"TsinghuaC3I/MedXpertQA\", \"MM\")\n",
    "\n",
    "test = ds[\"test\"]\n",
    "\n",
    "print(json.dumps(test[0], indent=2))"
   ]
  }
 ],
 "metadata": {
  "kernelspec": {
   "display_name": "opencompass_lmdeploy",
   "language": "python",
   "name": "python3"
  },
  "language_info": {
   "codemirror_mode": {
    "name": "ipython",
    "version": 3
   },
   "file_extension": ".py",
   "mimetype": "text/x-python",
   "name": "python",
   "nbconvert_exporter": "python",
   "pygments_lexer": "ipython3",
   "version": "3.10.18"
  }
 },
 "nbformat": 4,
 "nbformat_minor": 2
}
