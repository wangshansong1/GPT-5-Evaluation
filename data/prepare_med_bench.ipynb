{
 "cells": [
  {
   "cell_type": "markdown",
   "metadata": {},
   "source": [
    "#### MedMCQA"
   ]
  },
  {
   "cell_type": "code",
   "execution_count": 1,
   "metadata": {},
   "outputs": [
    {
     "name": "stderr",
     "output_type": "stream",
     "text": [
      "/home/wangss/anaconda3/envs/opencompass_lmdeploy/lib/python3.10/site-packages/tqdm/auto.py:21: TqdmWarning: IProgress not found. Please update jupyter and ipywidgets. See https://ipywidgets.readthedocs.io/en/stable/user_install.html\n",
      "  from .autonotebook import tqdm as notebook_tqdm\n",
      "Generating train split: 100%|██████████| 182822/182822 [00:00<00:00, 703302.16 examples/s]\n",
      "Generating test split: 100%|██████████| 6150/6150 [00:00<00:00, 1042768.71 examples/s]\n",
      "Generating validation split: 100%|██████████| 4183/4183 [00:00<00:00, 639037.47 examples/s]"
     ]
    },
    {
     "name": "stdout",
     "output_type": "stream",
     "text": [
      "DatasetDict({\n",
      "    train: Dataset({\n",
      "        features: ['id', 'question', 'opa', 'opb', 'opc', 'opd', 'cop', 'choice_type', 'exp', 'subject_name', 'topic_name'],\n",
      "        num_rows: 182822\n",
      "    })\n",
      "    test: Dataset({\n",
      "        features: ['id', 'question', 'opa', 'opb', 'opc', 'opd', 'cop', 'choice_type', 'exp', 'subject_name', 'topic_name'],\n",
      "        num_rows: 6150\n",
      "    })\n",
      "    validation: Dataset({\n",
      "        features: ['id', 'question', 'opa', 'opb', 'opc', 'opd', 'cop', 'choice_type', 'exp', 'subject_name', 'topic_name'],\n",
      "        num_rows: 4183\n",
      "    })\n",
      "})\n"
     ]
    },
    {
     "name": "stderr",
     "output_type": "stream",
     "text": [
      "\n"
     ]
    }
   ],
   "source": [
    "import os\n",
    "import json\n",
    "\n",
    "from datasets import load_dataset\n",
    "\n",
    "ds = load_dataset(\"openlifescienceai/medmcqa\")\n",
    "\n",
    "print(ds)"
   ]
  },
  {
   "cell_type": "code",
   "execution_count": 2,
   "metadata": {},
   "outputs": [],
   "source": [
    "data = ds['validation']\n",
    "\n",
    "final_data = []\n",
    "for index, item in enumerate(data):\n",
    "    id = item['id']\n",
    "    question = item['question'] + \"\\nAnswer Choices: (A) \" + item['opa'] + \" (B) \" + item['opb'] + \" (C) \" + item['opc'] + \" (D) \" + item['opd']\n",
    "    label = item['cop']\n",
    "    if label == 0:\n",
    "        label = [\"A\"]\n",
    "    elif label == 1:\n",
    "        label = [\"B\"]\n",
    "    elif label == 2:\n",
    "        label = [\"C\"]\n",
    "    elif label == 3:\n",
    "        label = [\"D\"]\n",
    "    else:\n",
    "        raise ValueError(\"Invalid label\")\n",
    "    label_rationale = item['exp']\n",
    "    subject_name = item['subject_name']\n",
    "    topic_name = item['topic_name']\n",
    "    final_data.append({\"id\": id, \"question\": question, \"label\": label, \"label_rationale\": label_rationale, \"subject_name\": subject_name, \"topic_name\": topic_name})\n",
    "\n",
    "output_path = \"medmcqa/input/medmcqa_input.jsonl\"\n",
    "os.makedirs(os.path.dirname(output_path), exist_ok=True)\n",
    "with open(output_path, 'w') as f:\n",
    "    for item in final_data:\n",
    "        f.write(json.dumps(item, ensure_ascii=False) + \"\\n\")"
   ]
  },
  {
   "cell_type": "markdown",
   "metadata": {},
   "source": [
    "#### MedQA"
   ]
  },
  {
   "cell_type": "code",
   "execution_count": 3,
   "metadata": {},
   "outputs": [
    {
     "name": "stderr",
     "output_type": "stream",
     "text": [
      "Generating train split: 100%|██████████| 10178/10178 [00:00<00:00, 400755.01 examples/s]\n",
      "Generating validation split: 100%|██████████| 1272/1272 [00:00<00:00, 383630.88 examples/s]\n",
      "Generating test split: 100%|██████████| 1273/1273 [00:00<00:00, 406838.54 examples/s]"
     ]
    },
    {
     "name": "stdout",
     "output_type": "stream",
     "text": [
      "DatasetDict({\n",
      "    train: Dataset({\n",
      "        features: ['id', 'sent1', 'sent2', 'ending0', 'ending1', 'ending2', 'ending3', 'label'],\n",
      "        num_rows: 10178\n",
      "    })\n",
      "    validation: Dataset({\n",
      "        features: ['id', 'sent1', 'sent2', 'ending0', 'ending1', 'ending2', 'ending3', 'label'],\n",
      "        num_rows: 1272\n",
      "    })\n",
      "    test: Dataset({\n",
      "        features: ['id', 'sent1', 'sent2', 'ending0', 'ending1', 'ending2', 'ending3', 'label'],\n",
      "        num_rows: 1273\n",
      "    })\n",
      "})\n"
     ]
    },
    {
     "name": "stderr",
     "output_type": "stream",
     "text": [
      "\n"
     ]
    }
   ],
   "source": [
    "ds = load_dataset(\"GBaker/MedQA-USMLE-4-options-hf\")\n",
    "\n",
    "print(ds)"
   ]
  },
  {
   "cell_type": "code",
   "execution_count": 5,
   "metadata": {},
   "outputs": [],
   "source": [
    "data = ds['test']\n",
    "\n",
    "final_data = []\n",
    "for index, item in enumerate(data):\n",
    "    id = item['id']\n",
    "    question = item['sent1'] + \"\\nAnswer Choices: (A) \" + item['ending0'] + \" (B) \" + item['ending1'] + \" (C) \" + item['ending2'] + \" (D) \" + item['ending3']\n",
    "    label = item['label']\n",
    "    if label == 0:\n",
    "        label = [\"A\"]\n",
    "    elif label == 1:\n",
    "        label = [\"B\"]\n",
    "    elif label == 2:\n",
    "        label = [\"C\"]\n",
    "    elif label == 3:\n",
    "        label = [\"D\"]\n",
    "    else:\n",
    "        raise ValueError(\"Invalid label\")\n",
    "    final_data.append({\"id\": id, \"question\": question, \"label\": label})\n",
    "\n",
    "output_path = \"medqa/input/medqa_input.jsonl\"\n",
    "os.makedirs(os.path.dirname(output_path), exist_ok=True)\n",
    "with open(output_path, 'w') as f:\n",
    "    for item in final_data:\n",
    "        f.write(json.dumps(item, ensure_ascii=False) + \"\\n\")"
   ]
  },
  {
   "cell_type": "markdown",
   "metadata": {},
   "source": [
    "#### MMLU Medical"
   ]
  },
  {
   "cell_type": "code",
   "execution_count": 6,
   "metadata": {},
   "outputs": [
    {
     "name": "stderr",
     "output_type": "stream",
     "text": [
      "Generating test split: 100%|██████████| 135/135 [00:00<00:00, 39688.16 examples/s]\n",
      "Generating validation split: 100%|██████████| 14/14 [00:00<00:00, 7168.00 examples/s]\n",
      "Generating dev split: 100%|██████████| 5/5 [00:00<00:00, 2301.53 examples/s]\n",
      "Generating test split: 100%|██████████| 265/265 [00:00<00:00, 78556.12 examples/s]\n",
      "Generating validation split: 100%|██████████| 29/29 [00:00<00:00, 13677.59 examples/s]\n",
      "Generating dev split: 100%|██████████| 5/5 [00:00<00:00, 3824.83 examples/s]\n",
      "Generating test split: 100%|██████████| 144/144 [00:00<00:00, 69937.45 examples/s]\n",
      "Generating validation split: 100%|██████████| 16/16 [00:00<00:00, 12252.85 examples/s]\n",
      "Generating dev split: 100%|██████████| 5/5 [00:00<00:00, 3402.26 examples/s]\n",
      "Generating test split: 100%|██████████| 173/173 [00:00<00:00, 88999.70 examples/s]\n",
      "Generating validation split: 100%|██████████| 22/22 [00:00<00:00, 19903.94 examples/s]\n",
      "Generating dev split: 100%|██████████| 5/5 [00:00<00:00, 4115.29 examples/s]\n",
      "Generating test split: 100%|██████████| 100/100 [00:00<00:00, 30318.81 examples/s]\n",
      "Generating validation split: 100%|██████████| 11/11 [00:00<00:00, 4459.01 examples/s]\n",
      "Generating dev split: 100%|██████████| 5/5 [00:00<00:00, 1928.77 examples/s]\n",
      "Generating test split: 100%|██████████| 272/272 [00:00<00:00, 87367.95 examples/s]\n",
      "Generating validation split: 100%|██████████| 31/31 [00:00<00:00, 20981.67 examples/s]\n",
      "Generating dev split: 100%|██████████| 5/5 [00:00<00:00, 3679.21 examples/s]\n"
     ]
    }
   ],
   "source": [
    "subject_list = [\"anatomy\", \"clinical_knowledge\", \"college_biology\", \"college_medicine\", \"medical_genetics\", \"professional_medicine\"]\n",
    "data = []\n",
    "for subject in subject_list:\n",
    "    data.append(load_dataset(\"cais/mmlu\", subject))"
   ]
  },
  {
   "cell_type": "code",
   "execution_count": 7,
   "metadata": {},
   "outputs": [],
   "source": [
    "final_data = []\n",
    "for ds in data:\n",
    "    samples = ds['test']\n",
    "    for index, item in enumerate(samples):\n",
    "        assert len(item['choices']) == 4\n",
    "        question = item['question'] + \"\\nAnswer Choices: (A) \" + item['choices'][0] + \" (B) \" + item['choices'][1] + \" (C) \" + item['choices'][2] + \" (D) \" + item['choices'][3]\n",
    "        label = item['answer']\n",
    "        if label == 0:\n",
    "            label = [\"A\"]\n",
    "        elif label == 1:\n",
    "            label = [\"B\"]\n",
    "        elif label == 2:\n",
    "            label = [\"C\"]\n",
    "        elif label == 3:\n",
    "            label = [\"D\"]\n",
    "        else:\n",
    "            raise ValueError(\"Invalid label\")\n",
    "        subject = item['subject']\n",
    "        final_data.append({\"question\": question, \"label\": label, \"subject\": subject})\n",
    "\n",
    "output_path = \"mmlu_medical/input/mmlu_medical_input.jsonl\"\n",
    "os.makedirs(os.path.dirname(output_path), exist_ok=True)\n",
    "with open(output_path, 'w') as f:\n",
    "    for item in final_data:\n",
    "        f.write(json.dumps(item, ensure_ascii=False) + \"\\n\")"
   ]
  }
 ],
 "metadata": {
  "kernelspec": {
   "display_name": "opencompass_lmdeploy",
   "language": "python",
   "name": "python3"
  },
  "language_info": {
   "codemirror_mode": {
    "name": "ipython",
    "version": 3
   },
   "file_extension": ".py",
   "mimetype": "text/x-python",
   "name": "python",
   "nbconvert_exporter": "python",
   "pygments_lexer": "ipython3",
   "version": "3.10.18"
  }
 },
 "nbformat": 4,
 "nbformat_minor": 2
}
